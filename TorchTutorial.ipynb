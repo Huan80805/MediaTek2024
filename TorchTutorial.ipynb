{
  "nbformat": 4,
  "nbformat_minor": 0,
  "metadata": {
    "colab": {
      "provenance": []
    },
    "kernelspec": {
      "name": "python3",
      "display_name": "Python 3"
    },
    "language_info": {
      "name": "python"
    }
  },
  "cells": [
    {
      "cell_type": "markdown",
      "source": [
        "This is a minimal tutorial for our lab. We only include basic functions, and functions that we will use in our lab. If you are interested in more operations of tensors and pytorch's design concept, see their [official tutorial](https://pytorch.org/tutorials/beginner/introyt.html)"
      ],
      "metadata": {
        "id": "U550SLeVHSr0"
      }
    },
    {
      "cell_type": "code",
      "source": [
        "import torch"
      ],
      "metadata": {
        "id": "yZ-jAD9K96hH"
      },
      "execution_count": null,
      "outputs": []
    },
    {
      "cell_type": "markdown",
      "source": [
        "## Tensor\n",
        "A tensor is a basic computing object/unit in pytorch.   \n",
        "It can be a scalar, a vector, or a matrix."
      ],
      "metadata": {
        "id": "wGFCkGxcxK0l"
      }
    },
    {
      "cell_type": "markdown",
      "source": [
        "## Constructing a tensor"
      ],
      "metadata": {
        "id": "LYO5bBUN-z5e"
      }
    },
    {
      "cell_type": "code",
      "source": [
        "# construct a tensor with random number between 0 and 1\n",
        "tensor_a = torch.rand(2,5) # this will create a tensor/matrix with shape 2*5\n",
        "tensor_b = torch.rand(5,2)\n",
        "\n",
        "print(tensor_a, tensor_b)\n",
        "print(tensor_a.shape, tensor_b.shape) #.shape tell you the shape of the tensor"
      ],
      "metadata": {
        "colab": {
          "base_uri": "https://localhost:8080/"
        },
        "id": "C63BjRSr-18y",
        "outputId": "a66e0871-b63d-4f5e-cedc-ddc11bcba4fd"
      },
      "execution_count": null,
      "outputs": [
        {
          "output_type": "stream",
          "name": "stdout",
          "text": [
            "tensor([[0.9373, 0.3090, 0.1375, 0.7567, 0.6141],\n",
            "        [0.2653, 0.0401, 0.8942, 0.0110, 0.5722]]) tensor([[0.8675, 0.6378],\n",
            "        [0.8927, 0.6534],\n",
            "        [0.6878, 0.1671],\n",
            "        [0.9499, 0.5498],\n",
            "        [0.0604, 0.2516]])\n",
            "torch.Size([2, 5]) torch.Size([5, 2])\n"
          ]
        }
      ]
    },
    {
      "cell_type": "code",
      "source": [
        "# construct a tensor with all zeros\n",
        "tensor_a = torch.zeros(2,5)\n",
        "# construct a tensor with all ones\n",
        "tensor_b = torch.ones(2,5)\n",
        "\n",
        "tensor_a, tensor_b"
      ],
      "metadata": {
        "colab": {
          "base_uri": "https://localhost:8080/"
        },
        "id": "9e1XHJYkxg5N",
        "outputId": "3eb2f027-2217-4f19-c735-ea5f3e694bdd"
      },
      "execution_count": null,
      "outputs": [
        {
          "output_type": "execute_result",
          "data": {
            "text/plain": [
              "(tensor([[0., 0., 0., 0., 0.],\n",
              "         [0., 0., 0., 0., 0.]]),\n",
              " tensor([[1., 1., 1., 1., 1.],\n",
              "         [1., 1., 1., 1., 1.]]))"
            ]
          },
          "metadata": {},
          "execution_count": 3
        }
      ]
    },
    {
      "cell_type": "code",
      "source": [
        "# construct a tensor from list\n",
        "numbert_list = [[1, 2, 3],\n",
        "                [4, 5, 6]]\n",
        "tensor_a = torch.tensor(numbert_list)\n",
        "\n",
        "tensor_a"
      ],
      "metadata": {
        "colab": {
          "base_uri": "https://localhost:8080/"
        },
        "id": "sQYVCxoXx6ho",
        "outputId": "3a1e23a7-c3e8-44a2-94f8-60998d950cf7"
      },
      "execution_count": null,
      "outputs": [
        {
          "output_type": "execute_result",
          "data": {
            "text/plain": [
              "tensor([[1, 2, 3],\n",
              "        [4, 5, 6]])"
            ]
          },
          "metadata": {},
          "execution_count": 4
        }
      ]
    },
    {
      "cell_type": "code",
      "source": [
        "# a tensor can have different data types, you can manually cast it to different data types with \".to\"\n",
        "# the default data type is float32\n",
        "tensor_a = torch.rand(2,5)\n",
        "print(tensor_a)\n",
        "tensor_a = tensor_a.to(torch.float64)\n",
        "print(tensor_a)\n",
        "tensor_a = tensor_a.to(torch.int8)\n",
        "print(tensor_a)\n",
        "# you can also use \".to\" to move tensor to another device ('cuda', 'cpu')\n",
        "tensor_a = tensor_a.to('cpu') # modify this to 'cuda' if gpu is available\n",
        "print(tensor_a)"
      ],
      "metadata": {
        "colab": {
          "base_uri": "https://localhost:8080/"
        },
        "id": "XolcIp1nyPfQ",
        "outputId": "44133eac-cc6b-4c1f-967b-f90f3e231c64"
      },
      "execution_count": null,
      "outputs": [
        {
          "output_type": "stream",
          "name": "stdout",
          "text": [
            "tensor([[0.4409, 0.9027, 0.4531, 0.1243, 0.6703],\n",
            "        [0.2522, 0.1012, 0.0321, 0.5525, 0.9834]])\n",
            "tensor([[0.4409, 0.9027, 0.4531, 0.1243, 0.6703],\n",
            "        [0.2522, 0.1012, 0.0321, 0.5525, 0.9834]], dtype=torch.float64)\n",
            "tensor([[0, 0, 0, 0, 0],\n",
            "        [0, 0, 0, 0, 0]], dtype=torch.int8)\n",
            "tensor([[0, 0, 0, 0, 0],\n",
            "        [0, 0, 0, 0, 0]], dtype=torch.int8)\n"
          ]
        }
      ]
    },
    {
      "cell_type": "code",
      "source": [
        "# you can also get scalar/list from a tensor\n",
        "tensor_a = torch.rand(2,5)\n",
        "print(tensor_a)\n",
        "# get scalar with \".item()\"\n",
        "print(tensor_a[0, 0].item())\n",
        "# get list with \".tolist()\"\n",
        "print(tensor_a[0].tolist())"
      ],
      "metadata": {
        "colab": {
          "base_uri": "https://localhost:8080/"
        },
        "id": "vjcEm3HPzHoO",
        "outputId": "8a130a73-8534-463d-fece-07d71a7d5dc9"
      },
      "execution_count": null,
      "outputs": [
        {
          "output_type": "stream",
          "name": "stdout",
          "text": [
            "tensor([[0.5955, 0.4308, 0.8631, 0.5430, 0.7761],\n",
            "        [0.6568, 0.9547, 0.3695, 0.4869, 0.0106]])\n",
            "0.595450758934021\n",
            "[0.595450758934021, 0.4307849407196045, 0.8630664348602295, 0.5430251955986023, 0.7760964035987854]\n"
          ]
        }
      ]
    },
    {
      "cell_type": "code",
      "source": [
        "# construct a tensor with given shape and filled with a given number\n",
        "full_matrix = torch.full((2,3),42) # number: 42, shape: 5*5\n",
        "\n",
        "full_matrix"
      ],
      "metadata": {
        "colab": {
          "base_uri": "https://localhost:8080/"
        },
        "id": "fbHx70MD1bY-",
        "outputId": "6627ce46-f5a3-499b-b70e-72c85766628b"
      },
      "execution_count": null,
      "outputs": [
        {
          "output_type": "execute_result",
          "data": {
            "text/plain": [
              "tensor([[42, 42, 42],\n",
              "        [42, 42, 42]])"
            ]
          },
          "metadata": {},
          "execution_count": 7
        }
      ]
    },
    {
      "cell_type": "markdown",
      "source": [
        "## Matrix multiplication\n",
        "\n",
        "[torch.matmul](https://pytorch.org/docs/stable/generated/torch.matmul.html)"
      ],
      "metadata": {
        "id": "D0-X5rrU9XRv"
      }
    },
    {
      "cell_type": "code",
      "execution_count": null,
      "metadata": {
        "colab": {
          "base_uri": "https://localhost:8080/"
        },
        "id": "pTVpfVlC9Oza",
        "outputId": "bd1c7705-5b37-49ce-868e-698bb20c7f7d"
      },
      "outputs": [
        {
          "output_type": "stream",
          "name": "stdout",
          "text": [
            "tensor([[ 4,  5],\n",
            "        [11, 13]])\n"
          ]
        }
      ],
      "source": [
        "a = [[1, 1],\n",
        "     [2, 3]]\n",
        "b = [[1, 2],\n",
        "     [3, 3]]\n",
        "tensor_a = torch.tensor(a)\n",
        "tensor_b = torch.tensor(b)\n",
        "print(torch.matmul(tensor_a,tensor_b))"
      ]
    },
    {
      "cell_type": "markdown",
      "source": [
        "## Outer product\n",
        "compute outer product between two vectors\n",
        "[torch.outer](https://pytorch.org/docs/stable/generated/torch.outer.html)"
      ],
      "metadata": {
        "id": "HK94wgZDLG7S"
      }
    },
    {
      "cell_type": "code",
      "source": [
        "tensor_c = torch.arange(1,5)\n",
        "tensor_d = torch.arange(3,7)\n",
        "\n",
        "out_product = torch.outer(tensor_c,tensor_d)\n",
        "\n",
        "tensor_c, tensor_d, out_product"
      ],
      "metadata": {
        "colab": {
          "base_uri": "https://localhost:8080/"
        },
        "id": "oRxs7p90LJZ5",
        "outputId": "914cf502-24cb-46ff-d066-fa1c8fa6356f"
      },
      "execution_count": null,
      "outputs": [
        {
          "output_type": "execute_result",
          "data": {
            "text/plain": [
              "(tensor([1, 2, 3, 4]),\n",
              " tensor([3, 4, 5, 6]),\n",
              " tensor([[ 3,  4,  5,  6],\n",
              "         [ 6,  8, 10, 12],\n",
              "         [ 9, 12, 15, 18],\n",
              "         [12, 16, 20, 24]]))"
            ]
          },
          "metadata": {},
          "execution_count": 9
        }
      ]
    },
    {
      "cell_type": "markdown",
      "source": [
        "## Filter out the upper triangle of one matrix\n",
        "\n",
        "[torch.triu](https://pytorch.org/docs/stable/generated/torch.triu.html)"
      ],
      "metadata": {
        "id": "UBGzmTsFDEYV"
      }
    },
    {
      "cell_type": "code",
      "source": [
        "original_matrix = torch.rand(5,5)\n",
        "print(original_matrix)\n",
        "\n",
        "upper_triangle = torch.triu(original_matrix)\n",
        "print(upper_triangle)"
      ],
      "metadata": {
        "colab": {
          "base_uri": "https://localhost:8080/"
        },
        "id": "6bfr6Lx4CWeC",
        "outputId": "7ddda41a-0479-40e6-d6ee-1a20543822f4"
      },
      "execution_count": null,
      "outputs": [
        {
          "output_type": "stream",
          "name": "stdout",
          "text": [
            "tensor([[0.3192, 0.8642, 0.3561, 0.0563, 0.1519],\n",
            "        [0.9537, 0.6780, 0.8652, 0.3633, 0.8234],\n",
            "        [0.8722, 0.5278, 0.7727, 0.5351, 0.8725],\n",
            "        [0.1473, 0.7386, 0.3058, 0.8142, 0.9745],\n",
            "        [0.3584, 0.1251, 0.0987, 0.4501, 0.5776]])\n",
            "tensor([[0.3192, 0.8642, 0.3561, 0.0563, 0.1519],\n",
            "        [0.0000, 0.6780, 0.8652, 0.3633, 0.8234],\n",
            "        [0.0000, 0.0000, 0.7727, 0.5351, 0.8725],\n",
            "        [0.0000, 0.0000, 0.0000, 0.8142, 0.9745],\n",
            "        [0.0000, 0.0000, 0.0000, 0.0000, 0.5776]])\n"
          ]
        }
      ]
    },
    {
      "cell_type": "markdown",
      "source": [
        "## Softmax"
      ],
      "metadata": {
        "id": "8VOeZig3D8aC"
      }
    },
    {
      "cell_type": "markdown",
      "source": [
        "Softmax is calculated by\n",
        "\n",
        "![image.png](data:image/png;base64,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)\n",
        "\n",
        "This returns the value proportioned to the sum of value along a given dimension.\n",
        "\n",
        "Simply put, the process is given as followed:\n",
        "\n",
        "1. Take exponential for each element in the matrix.\n",
        "2. Sum the exponential value along the given dimension.\n",
        "3. Divide the first step by the second step with their corresponding dimension."
      ],
      "metadata": {
        "id": "72XBl4zDMVZc"
      }
    },
    {
      "cell_type": "code",
      "source": [
        "# Let's demonstrate how we derive softmax manually\n",
        "# Here, we calculate sofatmax in the first row\n",
        "Row = upper_triangle[0]\n",
        "Sum_of_this_row = torch.sum(torch.exp(Row))\n",
        "print(\"Sum of exponentials of the first row: \", Sum_of_this_row)\n",
        "for i in range(upper_triangle.size(1)):\n",
        "  print(f\"original value: {Row[i]}\")\n",
        "  print(f\"exponential value: {torch.exp(Row[i])}\")\n",
        "  print(f\"elements divided by sum of exponentials: {torch.exp(Row[i])/Sum_of_this_row}\")\n",
        "\n",
        "\n",
        "## Softmax\n",
        "softmax_1 = torch.nn.functional.softmax(upper_triangle,dim=1)\n",
        "print(softmax_1) # you can see the first row is the same as we do manually"
      ],
      "metadata": {
        "colab": {
          "base_uri": "https://localhost:8080/"
        },
        "id": "2aGe_JUfDZTu",
        "outputId": "3cca1567-c9fc-4fea-8c70-35bf4b7359e8"
      },
      "execution_count": null,
      "outputs": [
        {
          "output_type": "stream",
          "name": "stdout",
          "text": [
            "Sum of exponentials of the first row:  tensor(7.3988)\n",
            "original value: 0.3192439079284668\n",
            "exponential value: 1.376086950302124\n",
            "elements divided by sum of exponentials: 0.1859872043132782\n",
            "original value: 0.8641807436943054\n",
            "exponential value: 2.373061180114746\n",
            "elements divided by sum of exponentials: 0.32073482871055603\n",
            "original value: 0.35612785816192627\n",
            "exponential value: 1.4277900457382202\n",
            "elements divided by sum of exponentials: 0.1929752230644226\n",
            "original value: 0.05626475811004639\n",
            "exponential value: 1.057877779006958\n",
            "elements divided by sum of exponentials: 0.14297914505004883\n",
            "original value: 0.15187054872512817\n",
            "exponential value: 1.1640095710754395\n",
            "elements divided by sum of exponentials: 0.15732355415821075\n",
            "tensor([[0.1860, 0.3207, 0.1930, 0.1430, 0.1573],\n",
            "        [0.1104, 0.2174, 0.2621, 0.1587, 0.2514],\n",
            "        [0.1210, 0.1210, 0.2620, 0.2066, 0.2895],\n",
            "        [0.1265, 0.1265, 0.1265, 0.2855, 0.3351],\n",
            "        [0.1730, 0.1730, 0.1730, 0.1730, 0.3082]])\n"
          ]
        }
      ]
    },
    {
      "cell_type": "code",
      "source": [
        "# softmax over columns instead of rows\n",
        "softmax_2 = torch.nn.functional.softmax(upper_triangle,dim=0)\n",
        "print(softmax_2)"
      ],
      "metadata": {
        "colab": {
          "base_uri": "https://localhost:8080/"
        },
        "id": "e5AfWrJgEgL1",
        "outputId": "80d98745-daf1-4986-86ba-8427b9f2b6a4"
      },
      "execution_count": null,
      "outputs": [
        {
          "output_type": "stream",
          "name": "stdout",
          "text": [
            "tensor([[0.2560, 0.3232, 0.1792, 0.1418, 0.1134],\n",
            "        [0.1860, 0.2683, 0.2981, 0.1927, 0.2219],\n",
            "        [0.1860, 0.1362, 0.2718, 0.2289, 0.2331],\n",
            "        [0.1860, 0.1362, 0.1255, 0.3026, 0.2581],\n",
            "        [0.1860, 0.1362, 0.1255, 0.1340, 0.1735]])\n"
          ]
        }
      ]
    },
    {
      "cell_type": "code",
      "source": [
        "## Use this helper function to inspect what internally a softmax do.\n",
        "import torch\n",
        "import torch.nn.functional as F\n",
        "def manual_softmax_dim0(x):\n",
        "    # Step 1: Compute the exponential of each element\n",
        "    exp_x = torch.exp(x)\n",
        "\n",
        "    # Step 2: Compute the sum of exponentials along dimension 0\n",
        "    sum_exp_x = torch.sum(exp_x, dim=0, keepdim=True)\n",
        "\n",
        "    # Step 3: Divide each exponential by the sum\n",
        "    softmax_x = exp_x / sum_exp_x\n",
        "\n",
        "    return softmax_x\n",
        "\n",
        "# Calculate softmax manually\n",
        "# manual_result = manual_softmax_dim0(upper_triangle)\n",
        "\n",
        "# # Calculate softmax using PyTorch's built-in function\n",
        "# torch_result = F.softmax(upper_triangle, dim=0)\n",
        "\n",
        "# print(\"Manual Softmax result:\")\n",
        "# print(manual_result)\n",
        "# print(\"\\nPyTorch Softmax result:\")\n",
        "# print(torch_result)\n",
        "\n",
        "# # Verify that the results are the same\n",
        "# print(\"\\nAre the results equal?\", torch.allclose(manual_result, torch_result))"
      ],
      "metadata": {
        "id": "vUotzKYxG8Gs"
      },
      "execution_count": null,
      "outputs": []
    },
    {
      "cell_type": "markdown",
      "source": [
        "## Reshape tensor\n",
        "\n",
        "[torch.view](https://pytorch.org/docs/stable/generated/torch.Tensor.view.html)\n",
        "\n",
        "or\n",
        "\n",
        "[torch.reshape](https://pytorch.org/docs/stable/generated/torch.reshape.html)"
      ],
      "metadata": {
        "id": "4EET3dx8MY4D"
      }
    },
    {
      "cell_type": "markdown",
      "source": [
        "These 2 functions produces the same result. torch.view performs quicker as it does not allocate new memory; torch.reshape runs slightly slower because it will allocate new memories if needed.\n",
        "\n",
        "For details, please refer to [this blog](https://myscale.com/blog/torch-reshape-vs-torch-view-pytorch/)\n",
        "\n",
        "Pratically, torch.reshape is recommanded as it can handle more cases. We guaranteed that all tensors are contiguous in our lab so we will use torch.view to decrease computation time."
      ],
      "metadata": {
        "id": "FBjVqXOYNQ4a"
      }
    },
    {
      "cell_type": "code",
      "source": [
        "before_reshaped = torch.randn((2,5))\n",
        "print(before_reshaped)\n",
        "\n",
        "after_reshaped = before_reshaped.reshape(5,2)\n",
        "after_viewed = before_reshaped.view(5,2)\n",
        "\n",
        "print(after_reshaped)\n",
        "print(after_viewed)"
      ],
      "metadata": {
        "colab": {
          "base_uri": "https://localhost:8080/"
        },
        "id": "vzg5e7DaOk6l",
        "outputId": "b9e00969-eba9-4c54-9a38-64ae1d9edca3"
      },
      "execution_count": null,
      "outputs": [
        {
          "output_type": "stream",
          "name": "stdout",
          "text": [
            "tensor([[-1.1768, -0.0658,  1.2120,  0.4447, -0.7296],\n",
            "        [ 3.1051,  0.5898, -0.3323, -0.3089,  0.4202]])\n",
            "tensor([[-1.1768, -0.0658],\n",
            "        [ 1.2120,  0.4447],\n",
            "        [-0.7296,  3.1051],\n",
            "        [ 0.5898, -0.3323],\n",
            "        [-0.3089,  0.4202]])\n",
            "tensor([[-1.1768, -0.0658],\n",
            "        [ 1.2120,  0.4447],\n",
            "        [-0.7296,  3.1051],\n",
            "        [ 0.5898, -0.3323],\n",
            "        [-0.3089,  0.4202]])\n"
          ]
        }
      ]
    },
    {
      "cell_type": "markdown",
      "source": [
        "## Get the index of max value\n",
        "\n",
        "[torch.argmax](https://pytorch.org/docs/stable/generated/torch.argmax.html)"
      ],
      "metadata": {
        "id": "SENMd6owO-Fm"
      }
    },
    {
      "cell_type": "markdown",
      "source": [
        "Argument max returns the \"index\" of the max value, in contrast of max, which directly returns the max value.\n",
        "\n",
        "(This can also be achieved my selecting indices of torch.max, but will be slightly slower.)"
      ],
      "metadata": {
        "id": "XHdxa7MUPOFH"
      }
    },
    {
      "cell_type": "code",
      "source": [
        "matrix = torch.randn(2,3)\n",
        "print(matrix)\n",
        "\n",
        "max_value=torch.max(matrix,dim=1).values\n",
        "max_index=torch.argmax(matrix,dim=1)\n",
        "print(max_value)\n",
        "print(max_index)"
      ],
      "metadata": {
        "colab": {
          "base_uri": "https://localhost:8080/"
        },
        "id": "9nVl09yvPMxM",
        "outputId": "273b4c35-1856-4dae-9b56-1288bc38e6dc"
      },
      "execution_count": null,
      "outputs": [
        {
          "output_type": "stream",
          "name": "stdout",
          "text": [
            "tensor([[ 0.6662, -1.0637, -1.6986],\n",
            "        [ 1.0759,  1.2133,  0.4335]])\n",
            "tensor([0.6662, 1.2133])\n",
            "tensor([0, 1])\n"
          ]
        }
      ]
    },
    {
      "cell_type": "code",
      "source": [],
      "metadata": {
        "id": "EPD1psl9PkfL"
      },
      "execution_count": null,
      "outputs": []
    }
  ]
}